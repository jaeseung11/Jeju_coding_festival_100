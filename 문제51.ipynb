{
  "nbformat": 4,
  "nbformat_minor": 0,
  "metadata": {
    "colab": {
      "provenance": [],
      "authorship_tag": "ABX9TyPMpmW3rald7GS3kzVHihqj"
    },
    "kernelspec": {
      "name": "python3",
      "display_name": "Python 3"
    },
    "language_info": {
      "name": "python"
    }
  },
  "cells": [
    {
      "cell_type": "code",
      "execution_count": null,
      "metadata": {
        "id": "8OWdNKjMW84J"
      },
      "outputs": [],
      "source": [
        "# 문제 51: merge sort(병합정렬)를 만들어보자.\n",
        "\n",
        "병합정렬(merge sort)은 대표적인 정렬 알고리즘 중 하나로 다음과 같이 동작합니다.\n",
        "\n",
        "> 1. 리스트의 길이가 0 또는 1이면 이미 정렬된 것으로 본다. 그렇지 않은 경우에는\n",
        "\n",
        "2. 정렬되지 않은 리스트를 절반으로 잘라 비슷한 크기의 두 부분 리스트로 나눈다.\n",
        "\n",
        "3. 각 부분 리스트를 재귀적으로 합병 정렬을 이용해 정렬한다.\n",
        "\n",
        "4. 두 부분 리스트를 다시 하나의 정렬된 리스트로 합병한다.\n",
        "> \n",
        "\n",
        "(출처 : 위키피디아)\n",
        "\n",
        "#병합 정렬\n",
        "def 병합정렬(입력리스트):\n",
        "    입력리스트길이 = len(입력리스트)\n",
        "    if 입력리스트길이 <= 1:\n",
        "        return 입력리스트\n",
        "    중간값 = 입력리스트길이 // 2\n",
        "    그룹_하나 = 병합정렬(입력리스트[:중간값])\n",
        "    그룹_둘 = 병합정렬(입력리스트[중간값:])\n",
        "    결과값 = []\n",
        "\n",
        "    while (#빈칸을 채워주세요) and (#빈칸을 채워주세요) :\n",
        "        if (#빈칸을 채워주세요):\n",
        "            결과값.append(그룹_하나.pop(0))\n",
        "        else:\n",
        "            결과값.append(그룹_둘.pop(0))\n",
        "\n",
        "    while 그룹_하나:\n",
        "        결과값.append(그룹_하나.pop(0))\n",
        "    while 그룹_둘:\n",
        "        결과값.append(그룹_둘.pop(0))\n",
        "    return 결과값\n",
        "\n",
        "주어진리스트 = [180, 145, 165, 45, 170, 175, 173, 171]\n",
        "#빈칸을 채워주세요\n",
        "\n",
        "print(병합정렬(주어진리스트))\n",
        "\n",
        "        \n"
      ]
    },
    {
      "cell_type": "code",
      "source": [
        "# 답안지\n",
        "\n",
        "def 병합정렬(입력리스트):\n",
        "    입력리스트길이 = len(입력리스트)\n",
        "    if 입력리스트길이 <= 1:\n",
        "        return 입력리스트\n",
        "    중간값 = 입력리스트길이 // 2\n",
        "    그룹_하나 = 병합정렬(입력리스트[:중간값])\n",
        "    그룹_둘 = 병합정렬(입력리스트[중간값:])\n",
        "    결과값 = []\n",
        "\n",
        "    while 그룹_하나 and 그룹_둘:\n",
        "        if 그룹_하나[0] < 그룹_둘[0]:\n",
        "            결과값.append(그룹_하나.pop(0))\n",
        "        else:\n",
        "            결과값.append(그룹_둘.pop(0))\n",
        "\n",
        "    while 그룹_하나:\n",
        "        결과값.append(그룹_하나.pop(0))\n",
        "    while 그룹_둘:\n",
        "        결과값.append(그룹_둘.pop(0))\n",
        "    return 결과값\n",
        "\n",
        "주어진리스트 = input().split(' ')\n",
        "주어진리스트 = [int(i) for i in 주어진리스트]\n",
        "\n",
        "print(병합정렬(주어진리스트))\n",
        "        "
      ],
      "metadata": {
        "id": "ZPmblxIrBzU2"
      },
      "execution_count": null,
      "outputs": []
    }
  ]
}