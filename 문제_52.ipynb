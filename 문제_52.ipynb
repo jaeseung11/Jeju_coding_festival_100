{
  "nbformat": 4,
  "nbformat_minor": 0,
  "metadata": {
    "colab": {
      "provenance": [],
      "authorship_tag": "ABX9TyOPm3NPB6Ivj/8rdtqoq9If"
    },
    "kernelspec": {
      "name": "python3",
      "display_name": "Python 3"
    },
    "language_info": {
      "name": "python"
    }
  },
  "cells": [
    {
      "cell_type": "code",
      "execution_count": null,
      "metadata": {
        "id": "ZmH9c6VoD5VY"
      },
      "outputs": [],
      "source": [
        "# 문제52 : quick sort\n",
        "\n",
        "다음 빈 칸을 채워 퀵 정렬을 완성해주세요.\n",
        "\n",
        "def 퀵정렬(입력리스트):\n",
        "    입력리스트의길이 = len(입력리스트)\n",
        "    if 입력리스트의길이 <= 1:\n",
        "        return 입력리스트\n",
        "    기준값 = 입력리스트.pop(입력리스트의길이//2)\n",
        "    그룹_하나 = []\n",
        "    그룹_둘 = []\n",
        "    \n",
        "    for i in range(입력리스트의길이-1):\n",
        "        if #내용을 채워주세요:\n",
        "            그룹_하나.append(입력리스트[i])\n",
        "        else:\n",
        "            그룹_둘.append(입력리스트[i])\n",
        "    return #내용을 채워주세요\n",
        "\n",
        "주어진리스트 = input().split(' ')\n",
        "#내용을 채워주세요.\n",
        "\n",
        "print(퀵정렬(주어진리스트))"
      ]
    },
    {
      "cell_type": "code",
      "source": [
        "# 내 답안\n",
        "\n",
        "\n",
        "다음 빈 칸을 채워 퀵 정렬을 완성해주세요.\n",
        "\n",
        "def 퀵정렬(입력리스트):\n",
        "    입력리스트의길이 = len(입력리스트)\n",
        "    if 입력리스트의길이 <= 1:\n",
        "        return 입력리스트\n",
        "    기준값 = 입력리스트.pop(입력리스트의길이//2)\n",
        "    그룹_하나 = []\n",
        "    그룹_둘 = []\n",
        "    \n",
        "    for i in range(입력리스트의길이-1):\n",
        "        if i == 1:\n",
        "            그룹_하나.append(입력리스트[i])\n",
        "        else:\n",
        "            그룹_둘.append(입력리스트[i])\n",
        "    return \n",
        "\n",
        "주어진리스트 = input().split(' ')\n",
        "#내용을 채워주세요.\n",
        "\n",
        "print(퀵정렬(주어진리스트))"
      ],
      "metadata": {
        "id": "1Msyma1tEIvu"
      },
      "execution_count": null,
      "outputs": []
    },
    {
      "cell_type": "code",
      "source": [
        "# 답안지\n",
        "\n",
        "```python\n",
        "def 퀵정렬(입력리스트):\n",
        "    입력리스트의길이 = len(입력리스트)\n",
        "    if 입력리스트의길이 <= 1:\n",
        "        return 입력리스트\n",
        "    기준값 = 입력리스트.pop(입력리스트의길이//2)\n",
        "    그룹_하나 = []\n",
        "    그룹_둘 = []\n",
        "    \n",
        "    for i in range(입력리스트의길이-1):\n",
        "        if 입력리스트[i] < 기준값:\n",
        "            그룹_하나.append(입력리스트[i])\n",
        "        else:\n",
        "            그룹_둘.append(입력리스트[i])\n",
        "    return 퀵정렬(그룹_하나) + [기준값] + 퀵정렬(그룹_둘)\n",
        "\n",
        "주어진리스트 = input().split(' ')\n",
        "주어진리스트 = [int(i) for i in 주어진리스트]\n",
        "\n",
        "print(퀵정렬(주어진리스트))\n",
        "```"
      ],
      "metadata": {
        "id": "B2DPjfm-FaX_"
      },
      "execution_count": null,
      "outputs": []
    }
  ]
}