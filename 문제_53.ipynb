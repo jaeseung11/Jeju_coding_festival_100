{
  "nbformat": 4,
  "nbformat_minor": 0,
  "metadata": {
    "colab": {
      "provenance": [],
      "authorship_tag": "ABX9TyN3DTM0t+7CT40OcXLAmEbB"
    },
    "kernelspec": {
      "name": "python3",
      "display_name": "Python 3"
    },
    "language_info": {
      "name": "python"
    }
  },
  "cells": [
    {
      "cell_type": "markdown",
      "source": [
        "# 문제53 : 괄호 문자열\n",
        "\n",
        "괄호 문자열이란 괄호 기호인 '{', '}', '[', ']', '(', ')' 와 같은 것을 말한다. 그 중 괄호의 모양이 바르게 구성 된 문자열을 **바른 문자열**, 그렇지 않은 문자열을 **바르지 않은 문자열**이라 부르도록 하자. \n",
        "\n",
        "(())와 같은 문자열은 바른 문자열이지만 ()()) 와 같은 문자열은 바르지 않은 문자열이다.(해당 문제에서는 소괄호만 판별하지만, 실력이 되시는 분들은 중괄호와 대괄호까지 판별해보세요.)\n",
        "\n",
        "**입력으로 주어진 괄호 문자열이 바른 문자열인지 바르지 않은 문자열인지 \"YES\"와 \"NO\"로 구분된 문자열을 출력해보자.**"
      ],
      "metadata": {
        "id": "Ww6oecY-Hm3U"
      }
    },
    {
      "cell_type": "code",
      "source": [
        "# 내 답안\n",
        "\n",
        "a = input(\"()\")\n",
        "\n",
        "if a == \"()\":\n",
        "    print(\"yes\")\n",
        "\n",
        "else:\n",
        "    print(\"NO\")\n",
        "\n",
        "\n"
      ],
      "metadata": {
        "id": "UiuwFMEhHqr2"
      },
      "execution_count": null,
      "outputs": []
    },
    {
      "cell_type": "code",
      "source": [
        "def math(e):  # 세번째로 실행\n",
        "    if e.count('(') != e.count(')'):  # count는 문자열의 개수\n",
        "        return False\n",
        "    괄호 = []\n",
        "    for i in e:\n",
        "        if i == '(':\n",
        "            괄호.append('(')\n",
        "        if i == ')':\n",
        "            if len(괄호) == 0:\n",
        "                return False\n",
        "            괄호.pop()\n",
        "    return True\n",
        "\n",
        "n = input()  # 첫번째로 실행\n",
        "if math(n) == True:  # 두번째로 실행\n",
        "\tprint(\"YES\")\n",
        "else:\n",
        "\tprint(\"NO\")"
      ],
      "metadata": {
        "colab": {
          "base_uri": "https://localhost:8080/"
        },
        "id": "17IRKWeGIY_U",
        "outputId": "097be7cc-fbe9-48d9-c353-79b4ddab93a8"
      },
      "execution_count": 3,
      "outputs": [
        {
          "output_type": "stream",
          "name": "stdout",
          "text": [
            "()\n",
            "YES\n"
          ]
        }
      ]
    }
  ]
}