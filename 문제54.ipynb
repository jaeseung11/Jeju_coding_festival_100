{
  "nbformat": 4,
  "nbformat_minor": 0,
  "metadata": {
    "colab": {
      "provenance": [],
      "authorship_tag": "ABX9TyM4cgL72NEF5OuCz18+Za5J"
    },
    "kernelspec": {
      "name": "python3",
      "display_name": "Python 3"
    },
    "language_info": {
      "name": "python"
    }
  },
  "cells": [
    {
      "cell_type": "markdown",
      "source": [
        "# 문제54 : 연속되는 수\n",
        "\n",
        "은주는 놀이공원 아르바이트를 하고 있습니다. 은주가 일하는 놀이공원에서는 현재 놀이공원 곳곳에 숨겨진 숫자 스탬프를 모아 오면 선물을 주는 이벤트를 하고 있습니다. 숫자 스탬프는 매일 그 수와 스탬프에 적힌 숫자가 바뀌지만 그 숫자는 항상 연속됩니다. \n",
        "그런데 요즘 다른 날에 찍은 스탬프를 가지고 와 선물을 달라고 하는 손님이 늘었습니다.\n",
        "\n",
        "스탬프에 적힌 숫자가 공백으로 구분되어 주어지면 이 숫자가 연속수인지 아닌지 \"YES\"와 \"NO\"로 판별하는 프로그램을 작성하세요."
      ],
      "metadata": {
        "id": "XUQ8XaccK2Mz"
      }
    },
    {
      "cell_type": "code",
      "execution_count": null,
      "metadata": {
        "id": "EPIcYJ0GKXi-"
      },
      "outputs": [],
      "source": [
        "입력1\n",
        "1 2 4 3 5\n",
        "\n",
        "출력1\n",
        "YES\n",
        "\n",
        "\n",
        "입력2\n",
        "1 4 2 6 3\n",
        "\n",
        "출력2\n",
        "NO"
      ]
    },
    {
      "cell_type": "code",
      "source": [
        "# 내답안\n",
        "\n",
        "\n",
        "input(1,2)\n",
        "\n",
        ".append()"
      ],
      "metadata": {
        "id": "lkis0ifUK98z"
      },
      "execution_count": null,
      "outputs": []
    },
    {
      "cell_type": "code",
      "source": [
        "# 답안지\n",
        "\n",
        "user_input = input().split(' ')\n",
        "user_input = [int(i) for i in user_input]\n",
        "\n",
        "def sol(l):\n",
        "    l = sorted(l)\n",
        "    for i in range(len(l) - 1):\n",
        "        if l[i]+1 != l[i+1]:\n",
        "            return 'NO'\n",
        "    return 'YES'\n",
        "\n",
        "print(sol(user_input))"
      ],
      "metadata": {
        "colab": {
          "base_uri": "https://localhost:8080/"
        },
        "id": "-HML-s1xMUxC",
        "outputId": "d06952ff-3eb4-4560-a7ec-309355825fa6"
      },
      "execution_count": 6,
      "outputs": [
        {
          "output_type": "stream",
          "name": "stdout",
          "text": [
            "1 3 8 5\n",
            "NO\n"
          ]
        }
      ]
    }
  ]
}